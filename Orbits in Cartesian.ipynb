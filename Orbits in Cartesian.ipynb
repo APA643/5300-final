{
 "cells": [
  {
   "cell_type": "markdown",
   "metadata": {},
   "source": [
    "# Gravitational Orbits \n",
    "Here we use python to numerically solve the two body problem in cartesian coridiantes"
   ]
  },
  {
   "cell_type": "markdown",
   "metadata": {},
   "source": [
    "We start by looking the the lagrangian of our system. $T=1/2 m_1(\\dot{x_1}^2+\\dot{y_1}^2)+1/2m_2(\\dot{x_2}^2+\\dot{y_2}^2)$ and $U=-\\frac{Gm_1m_2}{r}$. We then contruct the Lagrangian $\\mathcal{L}= T-U$ and use Lagrange's equation to construct the following equations of motion.\n",
    "\n",
    "\n",
    "$\\ddot{x_1}=-\\eta m_2 (x_1-x_2)$\n",
    "\n",
    "\n",
    "$\\ddot{x_2}=-\\eta m_1 (x_2-x_1)$\n",
    "\n",
    "\n",
    "$\\ddot{y_1}=-\\eta m_2 (y_1-y_2)$\n",
    "\n",
    "\n",
    "$\\ddot{y_2}=-\\eta m_1 (y_2-y_1)$\n",
    "\n",
    "\n",
    "Where $\\eta$ is given by\n",
    "\n",
    "\n",
    "$\\eta= \\frac{G}{[(x_1-x_2)^2+(y_1-y_2)^2]^{3/2}}$\n",
    "\n",
    "To solve this in python we create a 8 compnent vector\n",
    "\n",
    "$\\begin{align}\n",
    "  \\mathbf{y} = \\left(\\begin{array}{c} x_1(t) \\\\ \\dot x_1(t) \\\\ x_2(t) \\\\ \\dot{x_2}(t) \\\\ y_1(t) \\\\ \\dot{y_1}(t) \\\\ y_2(t) \\\\ \\dot{y_2}(t)  \\end{array} \\right) \n",
    "  \\qquad\n",
    "\\end{align}$\n",
    "From this we calculate $dy/dt$ and use solve_ivp to numerically solve this differential.\n",
    "\n",
    "Also included below is the leap frog method which allows for the conservation of energy.\n"
   ]
  },
  {
   "cell_type": "code",
   "execution_count": 1,
   "metadata": {},
   "outputs": [],
   "source": [
    "import numpy as np\n",
    "import matplotlib.pyplot as plt\n",
    "from scipy.integrate import solve_ivp"
   ]
  },
  {
   "cell_type": "code",
   "execution_count": 2,
   "metadata": {},
   "outputs": [],
   "source": [
    "class Orbit:\n",
    "    \"\"\"\n",
    "    Potentials and associated differential equations for central force motion\n",
    "    with the potential U(r) = k r^(-1) representing gravitiational potential.\n",
    "    \"\"\"\n",
    "    \n",
    "    def __init__(self, m1, m2, k):\n",
    "        self.m1= m1\n",
    "        self.m2=m2\n",
    "        self.k = k\n",
    "        \n",
    "    \n",
    "    \n",
    "    def dy_dt(self, t, y):\n",
    "        \"\"\"\n",
    "        This function returns the right-hand side of the diffeq: \n",
    "      \n",
    "        \n",
    "        Parameters\n",
    "        ----------\n",
    "        t : float\n",
    "            time \n",
    "        y : float\n",
    "            8-component vector with y[0] = x0(t), y[1] = dx0/dt, y[2] = x1(t)\n",
    "            \n",
    "        \"\"\"\n",
    "        hold= self.k*(((y[0]-y[2])**2+(y[4]-y[6])**2)**(-3/2)) \n",
    "        return [ y[1],\\\n",
    "                -hold * self.m2 * (y[0]-y[2]),\\\n",
    "                y[3],\\\n",
    "                -hold * self.m1 * (y[2]-y[0]),\\\n",
    "                y[5],\\\n",
    "                -hold * self.m2 * (y[4]-y[6]),\\\n",
    "                y[7],\\\n",
    "                -hold * self.m1 * (y[6]-y[4])\n",
    "                ]\n",
    "    \n",
    "    \n",
    "    def solve_ode(self, t_pts, x1, x_dot1, x2 ,x_dot2, y1, y_dot1 ,y2 ,y_dot2, \n",
    "                  abserr=1.0e-8, relerr=1.0e-8):\n",
    "        \"\"\"\n",
    "        Solve the ODE given initial conditions.\n",
    "        For now use odeint, but we have the option to switch.\n",
    "        Specify smaller abserr and relerr to get more precision.\n",
    "        \"\"\"\n",
    "        y = [x1, x_dot1, x2, x_dot2, y1, y_dot1, y2, y_dot2]  \n",
    "        solution = solve_ivp(self.dy_dt, (t_pts[0], t_pts[-1]), \n",
    "                             y, t_eval=t_pts, \n",
    "                             atol=abserr, rtol=relerr)\n",
    "        x1, x_dot1, x2, x_dot2, y1, y_dot1, y2, y_dot2 = solution.y\n",
    "        return x1, x_dot1, x2, x_dot2, y1, y_dot1, y2, y_dot2\n",
    "    \n",
    "    def solve_ode_Leapfrog(self, t_pts, x0, x_dot0, x1, x_dot1, y0, y_dot0, y1, y_dot1):\n",
    "        \"\"\"\n",
    "        Solve the ODE given initial conditions with the Leapfrog method.\n",
    "        \"\"\"\n",
    "        delta_t = t_pts[1] - t_pts[0]\n",
    "        \n",
    "        # initialize the arrays for r, rdot, r_dot_half, phi with zeros\n",
    "        num_t_pts = len(t_pts)\n",
    "        x0 = np.zeros(num_t_pts)\n",
    "        x_dot0 = np.zeros(num_t_pts)\n",
    "        x_dot0_half = np.zeros(num_t_pts)\n",
    "        y0 = np.zeros(num_t_pts)\n",
    "        y_dot0 = np.zeros(num_t_pts)\n",
    "        y_dot_half = np.zeros(num_t_pts)\n",
    "        x1 = np.zeros(num_t_pts)\n",
    "        x_dot1 = np.zeros(num_t_pts)\n",
    "        x_dot1_half = np.zeros(num_t_pts)\n",
    "        y1 = np.zeros(num_t_pts)\n",
    "        y_dot1 = np.zeros(num_t_pts)\n",
    "        y_dot1_half = np.zeros(num_t_pts)\n",
    "        phi = np.zeros(num_t_pts)\n",
    "        \n",
    "        # initial conditions\n",
    "        x0[0] = x0\n",
    "        x_dot[0] = x_dot0\n",
    "        y0[0] = x0\n",
    "        y_dot[0] = x_dot0\n",
    "        x1[0] = x1\n",
    "        x1_dot[0] = x_dot1\n",
    "        y1[0] = y1\n",
    "        y1_dot[0] = y_dot1\n",
    "        phi[0] = phi_0\n",
    "        \n",
    "        # step through the differential equation\n",
    "        for i in np.arange(num_t_pts - 1):\n",
    "            t = t_pts[i]\n",
    "            y = [x0[i], x_dot0[i], x1[i], x_dot1[i], y0[i], y_dot0[i], y1[i], y_dot1[i]]\n",
    "            x0_dot_half[i] = x_dot0[i] + self.dy_dt(t, y)[1] * delta_t/2.\n",
    "            x0[i+1] = x0[i] + x0_dot_half[i] * delta_t\n",
    "            \n",
    "            y = [x0[i+1], x_dot0[i], x1[i], x_dot1[i], y0[i], y_dot0[i], y1[i], y_dot1[i]]\n",
    "            x_dot0[i+1] = x0_dot_half[i] + self.dy_dt(t, y)[1] * delta_t/2.\n",
    "            \n",
    "            x1_dot_half[i] = x_dot1[i] + self.dy_dt(t, y)[3] * delta_t/2.\n",
    "            x1[i+1] = x1[i] + x1_dot_half[i] * delta_t\n",
    "            \n",
    "            y = [x0[i], x_dot0[i], x1[i+1], x_dot1[i], y0[i], y_dot0[i], y1[i], y_dot1[i]]\n",
    "            x_dot1[i+1] = x1_dot_half[i] + self.dy_dt(t, y)[3] * delta_t/2.\n",
    "            \n",
    "            y0_dot_half[i] = y_dot0[i] + self.dy_dt(t, y)[5] * delta_t/2.\n",
    "            y0[i+1] = y0[i] + y0_dot_half[i] * delta_t\n",
    "            \n",
    "            y = [x0[i], x_dot0[i], x1[i], x_dot1[i], y0[i+1], y_dot0[i], y1[i], y_dot1[i]]\n",
    "            y_dot0[i+1] = y0_dot_half[i] + self.dy_dt(t, y)[5] * delta_t/2.\n",
    "            \n",
    "            y1_dot_half[i] = y_dot1[i] + self.dy_dt(t, y)[7] * delta_t/2.\n",
    "            y1[i+1] = y1[i] + y1_dot_half[i] * delta_t\n",
    "            \n",
    "            y = [x0[i], x_dot0[i], x1[i], x_dot1[i], y0[i], y_dot0[i], y1[i+1], y_dot1[i]]\n",
    "            y_dot1[i+1] = y1_dot_half[i] + self.dy_dt(t, y)[7] * delta_t/2.\n",
    "            \n",
    "            \n",
    "        return x0, x_dot0, x1, x_dot0, y0, y_dot0, y1, y_dot1  \n",
    "    \n",
    "    def energy(self, t_pts, r, r_dot):\n",
    "        \"\"\"Evaluate the energy as a function of time\"\"\"\n",
    "        return (self.mu/2.) * r_dot**2 + self.Ueff(r)"
   ]
  },
  {
   "cell_type": "code",
   "execution_count": 4,
   "metadata": {
    "scrolled": true
   },
   "outputs": [
    {
     "data": {
      "text/plain": [
       "<matplotlib.legend.Legend at 0x24ac08ecd68>"
      ]
     },
     "execution_count": 4,
     "metadata": {},
     "output_type": "execute_result"
    },
    {
     "data": {
      "image/png": "[encoded data removed]",
      "text/plain": [
       "<Figure size 432x288 with 1 Axes>"
      ]
     },
     "metadata": {
      "needs_background": "light"
     },
     "output_type": "display_data"
    }
   ],
   "source": [
    "test = Orbit(m1 = 1.0, m2 = 1., k=20)\n",
    "m1 = 1.0\n",
    "m2 = 1.\n",
    "\n",
    "t_pts = np.arange(0, 50, 0.01)\n",
    "\n",
    "x1, x_dot1 = 1., -1.\n",
    "y1, y_dot1 = 1., 1.\n",
    "x2, x_dot2 = -(m1 / m2) * x1, -(m1 / m2) * x_dot1\n",
    "y2, y_dot2 = -(m1 / m2) * y1, -(m1 / m2) * y_dot1\n",
    "\n",
    "\n",
    "\n",
    "\n",
    "q = test.solve_ode(t_pts, x1, x_dot1, x2, x_dot2, y1, y_dot1, y2, y_dot2)\n",
    "\n",
    "fig = plt.figure()\n",
    "ax = fig.add_subplot(1,1,1)\n",
    "\n",
    "\n",
    "\n",
    "ax.plot(q[0],q[4], color='blue', label='m1')\n",
    "ax.plot(q[2],q[6], color='red', label='m2')\n",
    "\n",
    "\n",
    "\n",
    "ax.set_xlabel('x')\n",
    "ax.set_ylabel('y')\n",
    "ax.legend(loc='upper right')\n",
    "\n",
    "\n"
   ]
  },
  {
   "cell_type": "markdown",
   "metadata": {},
   "source": [
    "Here we see two equal mass objects effect on one another."
   ]
  },
  {
   "cell_type": "code",
   "execution_count": 5,
   "metadata": {
    "scrolled": true
   },
   "outputs": [
    {
     "data": {
      "text/plain": [
       "<matplotlib.legend.Legend at 0x24ac02518d0>"
      ]
     },
     "execution_count": 5,
     "metadata": {},
     "output_type": "execute_result"
    },
    {
     "data": {
      "image/png": "[encoded data removed]",
      "text/plain": [
       "<Figure size 432x288 with 1 Axes>"
      ]
     },
     "metadata": {
      "needs_background": "light"
     },
     "output_type": "display_data"
    }
   ],
   "source": [
    "test = Orbit(m1 = 1.0, m2 = 100., k=20)\n",
    "m1 = 1.0\n",
    "m2 = 100.\n",
    "\n",
    "t_pts = np.arange(0, 50, 0.01)\n",
    "\n",
    "x1, x_dot1 = 1., -1.\n",
    "y1, y_dot1 = 1., 1.\n",
    "x2, x_dot2 = -(m1 / m2) * x1, -(m1 / m2) * x_dot1\n",
    "y2, y_dot2 = -(m1 / m2) * y1, -(m1 / m2) * y_dot1\n",
    "\n",
    "\n",
    "\n",
    "\n",
    "q = test.solve_ode(t_pts, x1, x_dot1, x2, x_dot2, y1, y_dot1, y2, y_dot2)\n",
    "\n",
    "fig = plt.figure()\n",
    "ax = fig.add_subplot(1,1,1)\n",
    "\n",
    "\n",
    "\n",
    "ax.plot(q[0],q[4], color='blue', label='m1')\n",
    "ax.plot(q[2],q[6], color='red', label='m2')\n",
    "\n",
    "\n",
    "\n",
    "ax.set_xlabel('x')\n",
    "ax.set_ylabel('y')\n",
    "ax.legend(loc='upper right')\n",
    "\n"
   ]
  },
  {
   "cell_type": "markdown",
   "metadata": {},
   "source": [
    "Here we see if one mass is much larger than the other then we see the large mass is essentially motionless and the other mass follows an elliptical pattern at with a max r being at 1"
   ]
  }
 ],
 "metadata": {
  "kernelspec": {
   "display_name": "Python 3",
   "language": "python",
   "name": "python3"
  },
  "language_info": {
   "codemirror_mode": {
    "name": "ipython",
    "version": 3
   },
   "file_extension": ".py",
   "mimetype": "text/x-python",
   "name": "python",
   "nbconvert_exporter": "python",
   "pygments_lexer": "ipython3",
   "version": "3.7.3"
  }
 },
 "nbformat": 4,
 "nbformat_minor": 2
}
